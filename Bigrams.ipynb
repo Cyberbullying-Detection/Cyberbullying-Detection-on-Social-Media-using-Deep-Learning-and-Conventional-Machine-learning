{
  "nbformat": 4,
  "nbformat_minor": 5,
  "metadata": {
    "kernelspec": {
      "display_name": "Python 3",
      "language": "python",
      "name": "python3"
    },
    "language_info": {
      "codemirror_mode": {
        "name": "ipython",
        "version": 3
      },
      "file_extension": ".py",
      "mimetype": "text/x-python",
      "name": "python",
      "nbconvert_exporter": "python",
      "pygments_lexer": "ipython3",
      "version": "3.8.5"
    },
    "colab": {
      "name": "Bigrams_2.ipynb",
      "provenance": [],
      "include_colab_link": true
    }
  },
  "cells": [
    {
      "cell_type": "markdown",
      "metadata": {
        "id": "view-in-github",
        "colab_type": "text"
      },
      "source": [
        "<a href=\"https://colab.research.google.com/github/Cyberbullying-Detection/Cyberbullying-Detection-on-Social-Media-using-Deep-Learning-and-Conventional-Machine-learning/blob/main/Bigrams.ipynb\" target=\"_parent\"><img src=\"https://colab.research.google.com/assets/colab-badge.svg\" alt=\"Open In Colab\"/></a>"
      ]
    },
    {
      "cell_type": "code",
      "metadata": {
        "id": "075a9a03"
      },
      "source": [
        "import csv\n",
        "import random\n",
        "from collections import defaultdict, OrderedDict\n",
        "from operator import add\n",
        "import numpy as np\n",
        "import matplotlib.pyplot as plt\n",
        "import seaborn as sns\n",
        "#from tensorflow import keras\n",
        "import sklearn\n",
        "import sklearn.metrics as sm\n",
        "from sklearn import svm, tree\n",
        "from sklearn.model_selection import train_test_split\n",
        "from sklearn.ensemble import RandomForestClassifier, AdaBoostClassifier, GradientBoostingClassifier\n",
        "from sklearn.neighbors import KNeighborsClassifier\n",
        "from sklearn.naive_bayes import BernoulliNB, GaussianNB, MultinomialNB\n",
        "from sklearn.feature_extraction.text import CountVectorizer\n",
        "from sklearn.feature_extraction.text import TfidfVectorizer\n",
        "import pandas as pd"
      ],
      "id": "075a9a03",
      "execution_count": null,
      "outputs": []
    },
    {
      "cell_type": "code",
      "metadata": {
        "id": "0bc793bc",
        "outputId": "4943042b-4898-43f1-815e-b251e6e66bde"
      },
      "source": [
        "file = pd.read_csv('Final Dataset/cleaned_tweets_16K.csv')\n",
        "data = file.drop(['contains_url','naughty_count','norm'],axis = 1)\n",
        "data.head(10)"
      ],
      "id": "0bc793bc",
      "execution_count": null,
      "outputs": [
        {
          "data": {
            "text/html": [
              "<div>\n",
              "<style scoped>\n",
              "    .dataframe tbody tr th:only-of-type {\n",
              "        vertical-align: middle;\n",
              "    }\n",
              "\n",
              "    .dataframe tbody tr th {\n",
              "        vertical-align: top;\n",
              "    }\n",
              "\n",
              "    .dataframe thead th {\n",
              "        text-align: right;\n",
              "    }\n",
              "</style>\n",
              "<table border=\"1\" class=\"dataframe\">\n",
              "  <thead>\n",
              "    <tr style=\"text-align: right;\">\n",
              "      <th></th>\n",
              "      <th>label_bullying</th>\n",
              "      <th>text_message</th>\n",
              "    </tr>\n",
              "  </thead>\n",
              "  <tbody>\n",
              "    <tr>\n",
              "      <th>0</th>\n",
              "      <td>0</td>\n",
              "      <td>another bloody instant restaurant week serious...</td>\n",
              "    </tr>\n",
              "    <tr>\n",
              "      <th>1</th>\n",
              "      <td>0</td>\n",
              "      <td>this video of the peshmerga decimating isis i...</td>\n",
              "    </tr>\n",
              "    <tr>\n",
              "      <th>2</th>\n",
              "      <td>0</td>\n",
              "      <td>oh really no more instant restaurants thats sh...</td>\n",
              "    </tr>\n",
              "    <tr>\n",
              "      <th>3</th>\n",
              "      <td>0</td>\n",
              "      <td>it hasnt been a good few weeks for isis a new ...</td>\n",
              "    </tr>\n",
              "    <tr>\n",
              "      <th>4</th>\n",
              "      <td>0</td>\n",
              "      <td>i don’t need femisnsn because men carry heavy ...</td>\n",
              "    </tr>\n",
              "    <tr>\n",
              "      <th>5</th>\n",
              "      <td>0</td>\n",
              "      <td>19% is not the vast majority</td>\n",
              "    </tr>\n",
              "    <tr>\n",
              "      <th>6</th>\n",
              "      <td>1</td>\n",
              "      <td>and it is muslims who were the first crusader...</td>\n",
              "    </tr>\n",
              "    <tr>\n",
              "      <th>7</th>\n",
              "      <td>1</td>\n",
              "      <td>capital hill is a great example of how seldom...</td>\n",
              "    </tr>\n",
              "    <tr>\n",
              "      <th>8</th>\n",
              "      <td>1</td>\n",
              "      <td>feminismisequalitywhen men are actually listen...</td>\n",
              "    </tr>\n",
              "    <tr>\n",
              "      <th>9</th>\n",
              "      <td>0</td>\n",
              "      <td>gather round kids its story time brought to yo...</td>\n",
              "    </tr>\n",
              "  </tbody>\n",
              "</table>\n",
              "</div>"
            ],
            "text/plain": [
              "   label_bullying                                       text_message\n",
              "0               0  another bloody instant restaurant week serious...\n",
              "1               0   this video of the peshmerga decimating isis i...\n",
              "2               0  oh really no more instant restaurants thats sh...\n",
              "3               0  it hasnt been a good few weeks for isis a new ...\n",
              "4               0  i don’t need femisnsn because men carry heavy ...\n",
              "5               0                       19% is not the vast majority\n",
              "6               1   and it is muslims who were the first crusader...\n",
              "7               1   capital hill is a great example of how seldom...\n",
              "8               1  feminismisequalitywhen men are actually listen...\n",
              "9               0  gather round kids its story time brought to yo..."
            ]
          },
          "execution_count": 3,
          "metadata": {},
          "output_type": "execute_result"
        }
      ]
    },
    {
      "cell_type": "code",
      "metadata": {
        "id": "f368a269",
        "outputId": "9a1b3ea6-4970-4d8a-b4c0-de4e0127c976"
      },
      "source": [
        "print(file[\"text_message\"].describe())"
      ],
      "id": "f368a269",
      "execution_count": null,
      "outputs": [
        {
          "name": "stdout",
          "output_type": "stream",
          "text": [
            "count     15764\n",
            "unique    15294\n",
            "top            \n",
            "freq         18\n",
            "Name: text_message, dtype: object\n"
          ]
        }
      ]
    },
    {
      "cell_type": "code",
      "metadata": {
        "id": "b380514f",
        "outputId": "78acbdca-91e6-49c0-cdc1-08e92ae06e2c"
      },
      "source": [
        "file[\"text_message\"].value_counts()"
      ],
      "id": "b380514f",
      "execution_count": null,
      "outputs": [
        {
          "data": {
            "text/plain": [
              "                                                                                    18\n",
              " yes                                                                                15\n",
              " yup                                                                                15\n",
              "mkr                                                                                  8\n",
              " islamophobia - fear of this                                                         6\n",
              "                                                                                    ..\n",
              " no i dont just because some tv crew went in unharmed it proves nothing              1\n",
              "bullshit i dont know how many more episodes with kat and andre i could stand mkr     1\n",
              "when did kat become mrburns evil mkr shameonyou                                      1\n",
              "i vote for cuntandandre amp annielloyd cook off shit vs shit mkr                     1\n",
              " i highly doubt most women scare as easily as you                                    1\n",
              "Name: text_message, Length: 15294, dtype: int64"
            ]
          },
          "execution_count": 27,
          "metadata": {},
          "output_type": "execute_result"
        }
      ]
    },
    {
      "cell_type": "code",
      "metadata": {
        "id": "54b53a98",
        "outputId": "2f315e67-a7a2-4f48-d621-0e2249fb59a5"
      },
      "source": [
        "data.value_counts"
      ],
      "id": "54b53a98",
      "execution_count": null,
      "outputs": [
        {
          "data": {
            "text/plain": [
              "<bound method DataFrame.value_counts of        label_bullying                                       text_message\n",
              "0                   0  another bloody instant restaurant week serious...\n",
              "1                   0   this video of the peshmerga decimating isis i...\n",
              "2                   0  oh really no more instant restaurants thats sh...\n",
              "3                   0  it hasnt been a good few weeks for isis a new ...\n",
              "4                   0  i don’t need femisnsn because men carry heavy ...\n",
              "...               ...                                                ...\n",
              "15761               1  i want equal rights but i still want your seat...\n",
              "15762               1  go ahead and call me sexist but scandalous wom...\n",
              "15763               0   ive had the epic but i always kept it plugged...\n",
              "15764               0   so do you think that the daesh are planning t...\n",
              "15765               0   my skin green no colors suit only wear ripped...\n",
              "\n",
              "[15766 rows x 2 columns]>"
            ]
          },
          "execution_count": 6,
          "metadata": {},
          "output_type": "execute_result"
        }
      ]
    },
    {
      "cell_type": "code",
      "metadata": {
        "id": "453fb033",
        "outputId": "57a45012-20f2-4cf7-f229-23fe876a404b"
      },
      "source": [
        "pd.unique(data[\"label_bullying\"])"
      ],
      "id": "453fb033",
      "execution_count": null,
      "outputs": [
        {
          "data": {
            "text/plain": [
              "array([0, 1], dtype=int64)"
            ]
          },
          "execution_count": 24,
          "metadata": {},
          "output_type": "execute_result"
        }
      ]
    },
    {
      "cell_type": "code",
      "metadata": {
        "id": "d70cf456",
        "outputId": "1181b548-77c2-4cdf-d6e5-49b6b7cddedd"
      },
      "source": [
        "missing = data.isnull()\n",
        "missing.sorted(ascending=False)"
      ],
      "id": "d70cf456",
      "execution_count": null,
      "outputs": [
        {
          "ename": "TypeError",
          "evalue": "sort_values() missing 1 required positional argument: 'by'",
          "output_type": "error",
          "traceback": [
            "\u001b[1;31m---------------------------------------------------------------------------\u001b[0m",
            "\u001b[1;31mTypeError\u001b[0m                                 Traceback (most recent call last)",
            "\u001b[1;32m<ipython-input-31-e6f9ea424539>\u001b[0m in \u001b[0;36m<module>\u001b[1;34m\u001b[0m\n\u001b[0;32m      1\u001b[0m \u001b[0mmissing\u001b[0m \u001b[1;33m=\u001b[0m \u001b[0mdata\u001b[0m\u001b[1;33m.\u001b[0m\u001b[0misnull\u001b[0m\u001b[1;33m(\u001b[0m\u001b[1;33m)\u001b[0m\u001b[1;33m\u001b[0m\u001b[1;33m\u001b[0m\u001b[0m\n\u001b[1;32m----> 2\u001b[1;33m \u001b[0mmissing\u001b[0m\u001b[1;33m.\u001b[0m\u001b[0msort_values\u001b[0m\u001b[1;33m(\u001b[0m\u001b[0mascending\u001b[0m\u001b[1;33m=\u001b[0m\u001b[1;32mFalse\u001b[0m\u001b[1;33m)\u001b[0m\u001b[1;33m\u001b[0m\u001b[1;33m\u001b[0m\u001b[0m\n\u001b[0m",
            "\u001b[1;31mTypeError\u001b[0m: sort_values() missing 1 required positional argument: 'by'"
          ]
        }
      ]
    },
    {
      "cell_type": "code",
      "metadata": {
        "id": "3f1edc10",
        "outputId": "ed8725fd-03ce-4739-9980-50f1f11170ce"
      },
      "source": [
        "missing = (data.isnull().sum()/len(data)*100).round(2)\n",
        "pd.DataFrame({'% missing values': missing})"
      ],
      "id": "3f1edc10",
      "execution_count": null,
      "outputs": [
        {
          "data": {
            "text/html": [
              "<div>\n",
              "<style scoped>\n",
              "    .dataframe tbody tr th:only-of-type {\n",
              "        vertical-align: middle;\n",
              "    }\n",
              "\n",
              "    .dataframe tbody tr th {\n",
              "        vertical-align: top;\n",
              "    }\n",
              "\n",
              "    .dataframe thead th {\n",
              "        text-align: right;\n",
              "    }\n",
              "</style>\n",
              "<table border=\"1\" class=\"dataframe\">\n",
              "  <thead>\n",
              "    <tr style=\"text-align: right;\">\n",
              "      <th></th>\n",
              "      <th>% missing values</th>\n",
              "    </tr>\n",
              "  </thead>\n",
              "  <tbody>\n",
              "    <tr>\n",
              "      <th>label_bullying</th>\n",
              "      <td>0.0</td>\n",
              "    </tr>\n",
              "    <tr>\n",
              "      <th>text_message</th>\n",
              "      <td>0.0</td>\n",
              "    </tr>\n",
              "  </tbody>\n",
              "</table>\n",
              "</div>"
            ],
            "text/plain": [
              "                % missing values\n",
              "label_bullying               0.0\n",
              "text_message                 0.0"
            ]
          },
          "execution_count": 28,
          "metadata": {},
          "output_type": "execute_result"
        }
      ]
    },
    {
      "cell_type": "markdown",
      "metadata": {
        "id": "d6da1902"
      },
      "source": [
        "# Class Distribution"
      ],
      "id": "d6da1902"
    },
    {
      "cell_type": "code",
      "metadata": {
        "id": "4b816217",
        "outputId": "3e6db7a8-20ca-4043-d7a1-0461b3874d80"
      },
      "source": [
        "ax = sns.countplot(x = 'label_bullying', data = data)\n",
        "ax.set(xlabel='Class', ylabel='Count', title = 'Class Distribution')\n",
        "plt.show()"
      ],
      "id": "4b816217",
      "execution_count": null,
      "outputs": [
        {
          "data": {
            "image/png": "[encoded data removed]",
            "text/plain": [
              "<Figure size 432x288 with 1 Axes>"
            ]
          },
          "metadata": {
            "needs_background": "light"
          },
          "output_type": "display_data"
        }
      ]
    },
    {
      "cell_type": "code",
      "metadata": {
        "id": "80c417b2"
      },
      "source": [
        "def shuffle_data(X, y):\n",
        "    combined = list(zip(X, y))\n",
        "    random.shuffle(combined)\n",
        "    X[:], y[:] = zip(*combined)\n",
        "    return X, y"
      ],
      "id": "80c417b2",
      "execution_count": null,
      "outputs": []
    },
    {
      "cell_type": "markdown",
      "metadata": {
        "id": "17accb76"
      },
      "source": [
        "# Get Bigrams_Data"
      ],
      "id": "17accb76"
    },
    {
      "cell_type": "code",
      "metadata": {
        "id": "a1a4d582"
      },
      "source": [
        "def generate_all_char_bigrams():\n",
        "    bigram_dict = {}\n",
        "    alphabet = 'abcdefghijklmnopqrstuvwxyz'\n",
        "\n",
        "    for i in range(0, 26):\n",
        "        for j in range(0, 26):\n",
        "            gram = str(alphabet[i])+str(alphabet[j])\n",
        "            bigram_dict[gram] = 0\n",
        "\n",
        "    return OrderedDict(sorted(bigram_dict.items()))"
      ],
      "id": "a1a4d582",
      "execution_count": null,
      "outputs": []
    },
    {
      "cell_type": "code",
      "metadata": {
        "id": "610e64e0"
      },
      "source": [
        "def generate_all_char_trigrams():\n",
        "    bigram_dict = {}\n",
        "    alphabet = 'abcdefghijklmnopqrstuvwxyz'\n",
        "\n",
        "    for i in range(0, 26):\n",
        "        for j in range(0, 26):\n",
        "            for k in range(0, 26):\n",
        "                gram = str(alphabet[i])+str(alphabet[j])+str(alphabet[k])\n",
        "                bigram_dict[gram] = 0\n",
        "    return OrderedDict(sorted(bigram_dict.items()))"
      ],
      "id": "610e64e0",
      "execution_count": null,
      "outputs": []
    },
    {
      "cell_type": "code",
      "metadata": {
        "id": "0ddc46d7"
      },
      "source": [
        "def get_ngram_data(ngram_size, N=20000):\n",
        "    dataset_filename='Final Dataset/cleaned_tweets_16K.csv'\n",
        "    X = []\n",
        "    y = []\n",
        "    print(\"\\nGETTING DATA - \" + str(ngram_size) + \"-grams\")\n",
        "\n",
        "    # compute all possible n-grams and create a base dictionary for counting them\n",
        "    if ngram_size == 2:\n",
        "        global_grams = generate_all_char_bigrams()\n",
        "    else:\n",
        "        global_grams = generate_all_char_trigrams()\n",
        "        \n",
        "\n",
        "    # READ CSV\n",
        "    with open(dataset_filename,newline='',encoding=\"utf8\") as csvfile:\n",
        "        csv_reader = csv.reader(csvfile, delimiter=',')\n",
        "        line_count = 0\n",
        "\n",
        "        for row in csv_reader:\n",
        "            if line_count == 0:\n",
        "                print(','.join(row))\n",
        "            else:\n",
        "                if line_count < N:\n",
        "                    if line_count % 200 == 0:\n",
        "                        print(str(line_count) + \" ngrams computed\")\n",
        "\n",
        "                    label_bullying = int(row[0])\n",
        "                    text_message = row[1]\n",
        "\n",
        "                    # current features\n",
        "                    temp_x = []\n",
        "                    this_bigram_dict = global_grams.copy()\n",
        "\n",
        "                    # split text messages into a list of its ngrams\n",
        "                    ngram = [text_message[j:j+ngram_size] for j in range(len(text_message)-(ngram_size-1))]\n",
        "\n",
        "                    # TODO: change this to 'count' so we get better performance\n",
        "                    # count occurences of each character ngram\n",
        "                    for gram in ngram:\n",
        "                        if gram in this_bigram_dict:\n",
        "                            this_bigram_dict[gram] += 1\n",
        "\n",
        "                    # create feature vector for this instance (take just the values)\n",
        "                    for key in this_bigram_dict:\n",
        "                        temp_x.append(this_bigram_dict[key])\n",
        "\n",
        "                    X.append(temp_x)\n",
        "                    y.append(label_bullying)\n",
        "\n",
        "                    del this_bigram_dict\n",
        "            line_count += 1\n",
        "    print(\"processed\", line_count-1, \"comments\\n\")\n",
        "\n",
        "    # shuffle the data so that it is randomised\n",
        "    X, y = shuffle_data(X, y)\n",
        "\n",
        "    # SPLIT\n",
        "    print(\"splitting...\")\n",
        "    X_train, X_test, y_train, y_test = train_test_split(X, y, test_size=0.50)\n",
        "\n",
        "    return X_train, X_test, y_train, y_test\n"
      ],
      "id": "0ddc46d7",
      "execution_count": null,
      "outputs": []
    },
    {
      "cell_type": "code",
      "metadata": {
        "id": "63fce5c7"
      },
      "source": [
        ""
      ],
      "id": "63fce5c7",
      "execution_count": null,
      "outputs": []
    },
    {
      "cell_type": "markdown",
      "metadata": {
        "id": "412d122a"
      },
      "source": [
        "# Logistic Regression"
      ],
      "id": "412d122a"
    },
    {
      "cell_type": "code",
      "metadata": {
        "id": "17251840",
        "outputId": "049351bf-37f5-4525-8ff8-b5d7d042b3af"
      },
      "source": [
        "#Logistic Regression\n",
        "X_train_logistic, X_test_logistic, y_train_logistic, y_test_logistic = get_ngram_data(ngram_size=2, N=69446)\n",
        "\n",
        "grid_searching = False\n",
        "clf = sklearn.linear_model.LogisticRegression(penalty=\"l2\", max_iter=100, solver=\"liblinear\")\n",
        "clf = clf.fit(X_train_logistic, y_train_logistic)\n",
        "\n",
        "#PREDICT\n",
        "print(\"\\nevaluating\")\n",
        "y_pred_logistic = clf.predict(X_test_logistic)\n",
        "print(y_pred_logistic)"
      ],
      "id": "17251840",
      "execution_count": null,
      "outputs": [
        {
          "name": "stdout",
          "output_type": "stream",
          "text": [
            "\n",
            "GETTING DATA - 2-grams\n",
            "label_bullying,text_message,contains_url,naughty_count,norm\n",
            "200 ngrams computed\n",
            "400 ngrams computed\n",
            "600 ngrams computed\n",
            "800 ngrams computed\n",
            "1000 ngrams computed\n",
            "1200 ngrams computed\n",
            "1400 ngrams computed\n",
            "1600 ngrams computed\n",
            "1800 ngrams computed\n",
            "2000 ngrams computed\n",
            "2200 ngrams computed\n",
            "2400 ngrams computed\n",
            "2600 ngrams computed\n",
            "2800 ngrams computed\n",
            "3000 ngrams computed\n",
            "3200 ngrams computed\n",
            "3400 ngrams computed\n",
            "3600 ngrams computed\n",
            "3800 ngrams computed\n",
            "4000 ngrams computed\n",
            "4200 ngrams computed\n",
            "4400 ngrams computed\n",
            "4600 ngrams computed\n",
            "4800 ngrams computed\n",
            "5000 ngrams computed\n",
            "5200 ngrams computed\n",
            "5400 ngrams computed\n",
            "5600 ngrams computed\n",
            "5800 ngrams computed\n",
            "6000 ngrams computed\n",
            "6200 ngrams computed\n",
            "6400 ngrams computed\n",
            "6600 ngrams computed\n",
            "6800 ngrams computed\n",
            "7000 ngrams computed\n",
            "7200 ngrams computed\n",
            "7400 ngrams computed\n",
            "7600 ngrams computed\n",
            "7800 ngrams computed\n",
            "8000 ngrams computed\n",
            "8200 ngrams computed\n",
            "8400 ngrams computed\n",
            "8600 ngrams computed\n",
            "8800 ngrams computed\n",
            "9000 ngrams computed\n",
            "9200 ngrams computed\n",
            "9400 ngrams computed\n",
            "9600 ngrams computed\n",
            "9800 ngrams computed\n",
            "10000 ngrams computed\n",
            "10200 ngrams computed\n",
            "10400 ngrams computed\n",
            "10600 ngrams computed\n",
            "10800 ngrams computed\n",
            "11000 ngrams computed\n",
            "11200 ngrams computed\n",
            "11400 ngrams computed\n",
            "11600 ngrams computed\n",
            "11800 ngrams computed\n",
            "12000 ngrams computed\n",
            "12200 ngrams computed\n",
            "12400 ngrams computed\n",
            "12600 ngrams computed\n",
            "12800 ngrams computed\n",
            "13000 ngrams computed\n",
            "13200 ngrams computed\n",
            "13400 ngrams computed\n",
            "13600 ngrams computed\n",
            "13800 ngrams computed\n",
            "14000 ngrams computed\n",
            "14200 ngrams computed\n",
            "14400 ngrams computed\n",
            "14600 ngrams computed\n",
            "14800 ngrams computed\n",
            "15000 ngrams computed\n",
            "15200 ngrams computed\n",
            "15400 ngrams computed\n",
            "15600 ngrams computed\n",
            "processed 15766 comments\n",
            "\n",
            "splitting...\n",
            "\n",
            "evaluating\n",
            "[1 1 0 ... 0 0 0]\n"
          ]
        }
      ]
    },
    {
      "cell_type": "code",
      "metadata": {
        "id": "cbe957b9",
        "outputId": "57ee0f64-7617-4b92-d48b-5293bc9c9d81"
      },
      "source": [
        "# EVALUATE\n",
        "print(\"confusion matrix:\\n\", sm.confusion_matrix(y_test_logistic,y_pred_logistic))\n",
        "print(\"accuracy:\", round(sm.accuracy_score(y_test_logistic,y_pred_logistic), 4))"
      ],
      "id": "cbe957b9",
      "execution_count": null,
      "outputs": [
        {
          "name": "stdout",
          "output_type": "stream",
          "text": [
            "confusion matrix:\n",
            " [[4805  486]\n",
            " [1186 1406]]\n",
            "accuracy: 0.7879\n"
          ]
        }
      ]
    },
    {
      "cell_type": "markdown",
      "metadata": {
        "id": "128923dc"
      },
      "source": [
        "# Random Forest"
      ],
      "id": "128923dc"
    },
    {
      "cell_type": "code",
      "metadata": {
        "id": "d828dc9d",
        "outputId": "4aa13bf3-631e-47aa-b423-d2814aaab851"
      },
      "source": [
        "#Random Forest\n",
        "X_train_random, X_test_random, y_train_random, y_test_random = get_ngram_data(ngram_size=2, N=69446)\n",
        "grid_searching = False\n",
        "clf = RandomForestClassifier(n_estimators=100, max_depth=4)\n",
        "clf = clf.fit(X_train_random, y_train_random)\n",
        "\n",
        "#PREDICT\n",
        "print(\"\\nevaluating\")\n",
        "y_pred_random = clf.predict(X_test_random)\n",
        "print(y_pred_random)"
      ],
      "id": "d828dc9d",
      "execution_count": null,
      "outputs": [
        {
          "name": "stdout",
          "output_type": "stream",
          "text": [
            "\n",
            "GETTING DATA - 2-grams\n",
            "label_bullying,text_message,contains_url,naughty_count,norm\n",
            "200 ngrams computed\n",
            "400 ngrams computed\n",
            "600 ngrams computed\n",
            "800 ngrams computed\n",
            "1000 ngrams computed\n",
            "1200 ngrams computed\n",
            "1400 ngrams computed\n",
            "1600 ngrams computed\n",
            "1800 ngrams computed\n",
            "2000 ngrams computed\n",
            "2200 ngrams computed\n",
            "2400 ngrams computed\n",
            "2600 ngrams computed\n",
            "2800 ngrams computed\n",
            "3000 ngrams computed\n",
            "3200 ngrams computed\n",
            "3400 ngrams computed\n",
            "3600 ngrams computed\n",
            "3800 ngrams computed\n",
            "4000 ngrams computed\n",
            "4200 ngrams computed\n",
            "4400 ngrams computed\n",
            "4600 ngrams computed\n",
            "4800 ngrams computed\n",
            "5000 ngrams computed\n",
            "5200 ngrams computed\n",
            "5400 ngrams computed\n",
            "5600 ngrams computed\n",
            "5800 ngrams computed\n",
            "6000 ngrams computed\n",
            "6200 ngrams computed\n",
            "6400 ngrams computed\n",
            "6600 ngrams computed\n",
            "6800 ngrams computed\n",
            "7000 ngrams computed\n",
            "7200 ngrams computed\n",
            "7400 ngrams computed\n",
            "7600 ngrams computed\n",
            "7800 ngrams computed\n",
            "8000 ngrams computed\n",
            "8200 ngrams computed\n",
            "8400 ngrams computed\n",
            "8600 ngrams computed\n",
            "8800 ngrams computed\n",
            "9000 ngrams computed\n",
            "9200 ngrams computed\n",
            "9400 ngrams computed\n",
            "9600 ngrams computed\n",
            "9800 ngrams computed\n",
            "10000 ngrams computed\n",
            "10200 ngrams computed\n",
            "10400 ngrams computed\n",
            "10600 ngrams computed\n",
            "10800 ngrams computed\n",
            "11000 ngrams computed\n",
            "11200 ngrams computed\n",
            "11400 ngrams computed\n",
            "11600 ngrams computed\n",
            "11800 ngrams computed\n",
            "12000 ngrams computed\n",
            "12200 ngrams computed\n",
            "12400 ngrams computed\n",
            "12600 ngrams computed\n",
            "12800 ngrams computed\n",
            "13000 ngrams computed\n",
            "13200 ngrams computed\n",
            "13400 ngrams computed\n",
            "13600 ngrams computed\n",
            "13800 ngrams computed\n",
            "14000 ngrams computed\n",
            "14200 ngrams computed\n",
            "14400 ngrams computed\n",
            "14600 ngrams computed\n",
            "14800 ngrams computed\n",
            "15000 ngrams computed\n",
            "15200 ngrams computed\n",
            "15400 ngrams computed\n",
            "15600 ngrams computed\n",
            "processed 15766 comments\n",
            "\n",
            "splitting...\n",
            "\n",
            "evaluating\n",
            "[0 0 0 ... 0 0 0]\n"
          ]
        }
      ]
    },
    {
      "cell_type": "code",
      "metadata": {
        "id": "c431ddb8",
        "outputId": "613ba035-a4bd-4fef-a389-5fd4b004883b"
      },
      "source": [
        "# EVALUATE\n",
        "print(\"confusion matrix:\\n\", sm.confusion_matrix(y_test_random,y_pred_random))\n",
        "print(\"accuracy:\", round(sm.accuracy_score(y_test_random,y_pred_random), 4))"
      ],
      "id": "c431ddb8",
      "execution_count": null,
      "outputs": [
        {
          "name": "stdout",
          "output_type": "stream",
          "text": [
            "confusion matrix:\n",
            " [[5301   22]\n",
            " [2073  487]]\n",
            "accuracy: 0.7342\n"
          ]
        }
      ]
    },
    {
      "cell_type": "markdown",
      "metadata": {
        "id": "bfe5fb7b"
      },
      "source": [
        "# Bernoulli Naive Bayes"
      ],
      "id": "bfe5fb7b"
    },
    {
      "cell_type": "code",
      "metadata": {
        "id": "1847d998",
        "outputId": "18aaa264-0255-4972-d5f7-39b27cd0dd10"
      },
      "source": [
        "X_train_bayes, X_test_bayes, y_train_bayes, y_test_bayes = get_ngram_data(ngram_size=2, N=69446)\n",
        "grid_searching = False\n",
        "clf = BernoulliNB()\n",
        "clf = clf.fit(X_train_bayes, y_train_bayes)\n",
        "\n",
        "#PREDICT\n",
        "print(\"\\nevaluating\")\n",
        "y_pred_bayes = clf.predict(X_test_bayes)\n",
        "print(y_pred_bayes)"
      ],
      "id": "1847d998",
      "execution_count": null,
      "outputs": [
        {
          "name": "stdout",
          "output_type": "stream",
          "text": [
            "\n",
            "GETTING DATA - 2-grams\n",
            "label_bullying,text_message,contains_url,naughty_count,norm\n",
            "200 ngrams computed\n",
            "400 ngrams computed\n",
            "600 ngrams computed\n",
            "800 ngrams computed\n",
            "1000 ngrams computed\n",
            "1200 ngrams computed\n",
            "1400 ngrams computed\n",
            "1600 ngrams computed\n",
            "1800 ngrams computed\n",
            "2000 ngrams computed\n",
            "2200 ngrams computed\n",
            "2400 ngrams computed\n",
            "2600 ngrams computed\n",
            "2800 ngrams computed\n",
            "3000 ngrams computed\n",
            "3200 ngrams computed\n",
            "3400 ngrams computed\n",
            "3600 ngrams computed\n",
            "3800 ngrams computed\n",
            "4000 ngrams computed\n",
            "4200 ngrams computed\n",
            "4400 ngrams computed\n",
            "4600 ngrams computed\n",
            "4800 ngrams computed\n",
            "5000 ngrams computed\n",
            "5200 ngrams computed\n",
            "5400 ngrams computed\n",
            "5600 ngrams computed\n",
            "5800 ngrams computed\n",
            "6000 ngrams computed\n",
            "6200 ngrams computed\n",
            "6400 ngrams computed\n",
            "6600 ngrams computed\n",
            "6800 ngrams computed\n",
            "7000 ngrams computed\n",
            "7200 ngrams computed\n",
            "7400 ngrams computed\n",
            "7600 ngrams computed\n",
            "7800 ngrams computed\n",
            "8000 ngrams computed\n",
            "8200 ngrams computed\n",
            "8400 ngrams computed\n",
            "8600 ngrams computed\n",
            "8800 ngrams computed\n",
            "9000 ngrams computed\n",
            "9200 ngrams computed\n",
            "9400 ngrams computed\n",
            "9600 ngrams computed\n",
            "9800 ngrams computed\n",
            "10000 ngrams computed\n",
            "10200 ngrams computed\n",
            "10400 ngrams computed\n",
            "10600 ngrams computed\n",
            "10800 ngrams computed\n",
            "11000 ngrams computed\n",
            "11200 ngrams computed\n",
            "11400 ngrams computed\n",
            "11600 ngrams computed\n",
            "11800 ngrams computed\n",
            "12000 ngrams computed\n",
            "12200 ngrams computed\n",
            "12400 ngrams computed\n",
            "12600 ngrams computed\n",
            "12800 ngrams computed\n",
            "13000 ngrams computed\n",
            "13200 ngrams computed\n",
            "13400 ngrams computed\n",
            "13600 ngrams computed\n",
            "13800 ngrams computed\n",
            "14000 ngrams computed\n",
            "14200 ngrams computed\n",
            "14400 ngrams computed\n",
            "14600 ngrams computed\n",
            "14800 ngrams computed\n",
            "15000 ngrams computed\n",
            "15200 ngrams computed\n",
            "15400 ngrams computed\n",
            "15600 ngrams computed\n",
            "processed 15766 comments\n",
            "\n",
            "splitting...\n",
            "\n",
            "evaluating\n",
            "[1 1 0 ... 0 1 1]\n"
          ]
        }
      ]
    },
    {
      "cell_type": "code",
      "metadata": {
        "id": "ed1fddfc",
        "outputId": "2a9c8999-9012-4306-b7bd-2ebbae412b34"
      },
      "source": [
        "# EVALUATE\n",
        "print(\"confusion matrix:\\n\", sm.confusion_matrix(y_test_bayes,y_pred_bayes))\n",
        "print(\"accuracy:\", round(sm.accuracy_score(y_test_bayes,y_pred_bayes), 4))"
      ],
      "id": "ed1fddfc",
      "execution_count": null,
      "outputs": [
        {
          "name": "stdout",
          "output_type": "stream",
          "text": [
            "confusion matrix:\n",
            " [[4120 1245]\n",
            " [ 926 1592]]\n",
            "accuracy: 0.7246\n"
          ]
        }
      ]
    },
    {
      "cell_type": "markdown",
      "metadata": {
        "id": "578bcf34"
      },
      "source": [
        "# KNN"
      ],
      "id": "578bcf34"
    },
    {
      "cell_type": "code",
      "metadata": {
        "id": "3d19e0da",
        "outputId": "505efe3d-a8ec-40da-fd85-baef3edcb39a"
      },
      "source": [
        "X_train_knn, X_test_knn, y_train_knn, y_test_knn = get_ngram_data(ngram_size=2, N=69446)\n",
        "grid_searching = False\n",
        "clf = KNeighborsClassifier(n_neighbors=3)\n",
        "clf = clf.fit(X_train_knn, y_train_knn)\n",
        "\n",
        "#PREDICT\n",
        "print(\"\\nevaluating\")\n",
        "y_pred_knn = clf.predict(X_test_knn)\n",
        "print(y_pred_knn)"
      ],
      "id": "3d19e0da",
      "execution_count": null,
      "outputs": [
        {
          "name": "stdout",
          "output_type": "stream",
          "text": [
            "\n",
            "GETTING DATA - 2-grams\n",
            "label_bullying,text_message,contains_url,naughty_count,norm\n",
            "200 ngrams computed\n",
            "400 ngrams computed\n",
            "600 ngrams computed\n",
            "800 ngrams computed\n",
            "1000 ngrams computed\n",
            "1200 ngrams computed\n",
            "1400 ngrams computed\n",
            "1600 ngrams computed\n",
            "1800 ngrams computed\n",
            "2000 ngrams computed\n",
            "2200 ngrams computed\n",
            "2400 ngrams computed\n",
            "2600 ngrams computed\n",
            "2800 ngrams computed\n",
            "3000 ngrams computed\n",
            "3200 ngrams computed\n",
            "3400 ngrams computed\n",
            "3600 ngrams computed\n",
            "3800 ngrams computed\n",
            "4000 ngrams computed\n",
            "4200 ngrams computed\n",
            "4400 ngrams computed\n",
            "4600 ngrams computed\n",
            "4800 ngrams computed\n",
            "5000 ngrams computed\n",
            "5200 ngrams computed\n",
            "5400 ngrams computed\n",
            "5600 ngrams computed\n",
            "5800 ngrams computed\n",
            "6000 ngrams computed\n",
            "6200 ngrams computed\n",
            "6400 ngrams computed\n",
            "6600 ngrams computed\n",
            "6800 ngrams computed\n",
            "7000 ngrams computed\n",
            "7200 ngrams computed\n",
            "7400 ngrams computed\n",
            "7600 ngrams computed\n",
            "7800 ngrams computed\n",
            "8000 ngrams computed\n",
            "8200 ngrams computed\n",
            "8400 ngrams computed\n",
            "8600 ngrams computed\n",
            "8800 ngrams computed\n",
            "9000 ngrams computed\n",
            "9200 ngrams computed\n",
            "9400 ngrams computed\n",
            "9600 ngrams computed\n",
            "9800 ngrams computed\n",
            "10000 ngrams computed\n",
            "10200 ngrams computed\n",
            "10400 ngrams computed\n",
            "10600 ngrams computed\n",
            "10800 ngrams computed\n",
            "11000 ngrams computed\n",
            "11200 ngrams computed\n",
            "11400 ngrams computed\n",
            "11600 ngrams computed\n",
            "11800 ngrams computed\n",
            "12000 ngrams computed\n",
            "12200 ngrams computed\n",
            "12400 ngrams computed\n",
            "12600 ngrams computed\n",
            "12800 ngrams computed\n",
            "13000 ngrams computed\n",
            "13200 ngrams computed\n",
            "13400 ngrams computed\n",
            "13600 ngrams computed\n",
            "13800 ngrams computed\n",
            "14000 ngrams computed\n",
            "14200 ngrams computed\n",
            "14400 ngrams computed\n",
            "14600 ngrams computed\n",
            "14800 ngrams computed\n",
            "15000 ngrams computed\n",
            "15200 ngrams computed\n",
            "15400 ngrams computed\n",
            "15600 ngrams computed\n",
            "processed 15766 comments\n",
            "\n",
            "splitting...\n",
            "\n",
            "evaluating\n",
            "[0 1 1 ... 0 0 1]\n"
          ]
        }
      ]
    },
    {
      "cell_type": "code",
      "metadata": {
        "id": "a6ff4f8d",
        "outputId": "fed540f0-9810-45cd-e63c-22564716a519"
      },
      "source": [
        "# EVALUATE\n",
        "print(\"confusion matrix:\\n\", sm.confusion_matrix(y_test_knn,y_pred_knn))\n",
        "print(\"accuracy:\", round(sm.accuracy_score(y_test_knn,y_pred_knn), 4))"
      ],
      "id": "a6ff4f8d",
      "execution_count": null,
      "outputs": [
        {
          "name": "stdout",
          "output_type": "stream",
          "text": [
            "confusion matrix:\n",
            " [[4826  510]\n",
            " [1420 1127]]\n",
            "accuracy: 0.7552\n"
          ]
        }
      ]
    },
    {
      "cell_type": "markdown",
      "metadata": {
        "id": "cfd43847"
      },
      "source": [
        "# AdaBoost Classifier"
      ],
      "id": "cfd43847"
    },
    {
      "cell_type": "code",
      "metadata": {
        "id": "f53bcc0c",
        "outputId": "b6c6628c-67ce-414c-c87a-d0f82dee6b42"
      },
      "source": [
        "X_train_adaboost, X_test_adaboost, y_train_adaboost, y_test_adaboost = get_ngram_data(ngram_size=2, N=69446)\n",
        "grid_searching = False\n",
        "clf = AdaBoostClassifier()\n",
        "clf = clf.fit(X_train_adaboost, y_train_adaboost)\n",
        "\n",
        "#PREDICT\n",
        "print(\"\\nevaluating\")\n",
        "y_pred_adaboost = clf.predict(X_test_adaboost)\n",
        "print(y_pred_adaboost)"
      ],
      "id": "f53bcc0c",
      "execution_count": null,
      "outputs": [
        {
          "name": "stdout",
          "output_type": "stream",
          "text": [
            "\n",
            "GETTING DATA - 2-grams\n",
            "label_bullying,text_message,contains_url,naughty_count,norm\n",
            "200 ngrams computed\n",
            "400 ngrams computed\n",
            "600 ngrams computed\n",
            "800 ngrams computed\n",
            "1000 ngrams computed\n",
            "1200 ngrams computed\n",
            "1400 ngrams computed\n",
            "1600 ngrams computed\n",
            "1800 ngrams computed\n",
            "2000 ngrams computed\n",
            "2200 ngrams computed\n",
            "2400 ngrams computed\n",
            "2600 ngrams computed\n",
            "2800 ngrams computed\n",
            "3000 ngrams computed\n",
            "3200 ngrams computed\n",
            "3400 ngrams computed\n",
            "3600 ngrams computed\n",
            "3800 ngrams computed\n",
            "4000 ngrams computed\n",
            "4200 ngrams computed\n",
            "4400 ngrams computed\n",
            "4600 ngrams computed\n",
            "4800 ngrams computed\n",
            "5000 ngrams computed\n",
            "5200 ngrams computed\n",
            "5400 ngrams computed\n",
            "5600 ngrams computed\n",
            "5800 ngrams computed\n",
            "6000 ngrams computed\n",
            "6200 ngrams computed\n",
            "6400 ngrams computed\n",
            "6600 ngrams computed\n",
            "6800 ngrams computed\n",
            "7000 ngrams computed\n",
            "7200 ngrams computed\n",
            "7400 ngrams computed\n",
            "7600 ngrams computed\n",
            "7800 ngrams computed\n",
            "8000 ngrams computed\n",
            "8200 ngrams computed\n",
            "8400 ngrams computed\n",
            "8600 ngrams computed\n",
            "8800 ngrams computed\n",
            "9000 ngrams computed\n",
            "9200 ngrams computed\n",
            "9400 ngrams computed\n",
            "9600 ngrams computed\n",
            "9800 ngrams computed\n",
            "10000 ngrams computed\n",
            "10200 ngrams computed\n",
            "10400 ngrams computed\n",
            "10600 ngrams computed\n",
            "10800 ngrams computed\n",
            "11000 ngrams computed\n",
            "11200 ngrams computed\n",
            "11400 ngrams computed\n",
            "11600 ngrams computed\n",
            "11800 ngrams computed\n",
            "12000 ngrams computed\n",
            "12200 ngrams computed\n",
            "12400 ngrams computed\n",
            "12600 ngrams computed\n",
            "12800 ngrams computed\n",
            "13000 ngrams computed\n",
            "13200 ngrams computed\n",
            "13400 ngrams computed\n",
            "13600 ngrams computed\n",
            "13800 ngrams computed\n",
            "14000 ngrams computed\n",
            "14200 ngrams computed\n",
            "14400 ngrams computed\n",
            "14600 ngrams computed\n",
            "14800 ngrams computed\n",
            "15000 ngrams computed\n",
            "15200 ngrams computed\n",
            "15400 ngrams computed\n",
            "15600 ngrams computed\n",
            "processed 15766 comments\n",
            "\n",
            "splitting...\n",
            "\n",
            "evaluating\n",
            "[0 0 1 ... 0 1 0]\n"
          ]
        }
      ]
    },
    {
      "cell_type": "code",
      "metadata": {
        "id": "2ebd92a0",
        "outputId": "730a056b-9d4a-4f7b-a8ad-da23333bd1f0"
      },
      "source": [
        "# EVALUATE\n",
        "print(\"confusion matrix:\\n\", sm.confusion_matrix(y_test_adaboost,y_pred_adaboost))\n",
        "print(\"accuracy:\", round(sm.accuracy_score(y_test_adaboost,y_pred_adaboost), 4))"
      ],
      "id": "2ebd92a0",
      "execution_count": null,
      "outputs": [
        {
          "name": "stdout",
          "output_type": "stream",
          "text": [
            "confusion matrix:\n",
            " [[4840  497]\n",
            " [1228 1318]]\n",
            "accuracy: 0.7812\n"
          ]
        }
      ]
    },
    {
      "cell_type": "markdown",
      "metadata": {
        "id": "b3bb64b0"
      },
      "source": [
        "# SVM"
      ],
      "id": "b3bb64b0"
    },
    {
      "cell_type": "code",
      "metadata": {
        "id": "39cbeb36",
        "outputId": "842fb414-3eb9-45fc-ab60-30190cbecb88"
      },
      "source": [
        "X_train_svm, X_test_svm, y_train_svm, y_test_svm = get_ngram_data(ngram_size=2, N=69446)\n",
        "grid_searching = False\n",
        "clf = svm.SVC(C=10, kernel=\"rbf\", gamma=0.001)\n",
        "clf = clf.fit(X_train_svm, y_train_svm)\n",
        "\n",
        "#PREDICT\n",
        "print(\"\\nevaluating\")\n",
        "y_pred_svm = clf.predict(X_test_svm)\n",
        "print(y_pred_svm)"
      ],
      "id": "39cbeb36",
      "execution_count": null,
      "outputs": [
        {
          "name": "stdout",
          "output_type": "stream",
          "text": [
            "\n",
            "GETTING DATA - 2-grams\n",
            "label_bullying,text_message,contains_url,naughty_count,norm\n",
            "200 ngrams computed\n",
            "400 ngrams computed\n",
            "600 ngrams computed\n",
            "800 ngrams computed\n",
            "1000 ngrams computed\n",
            "1200 ngrams computed\n",
            "1400 ngrams computed\n",
            "1600 ngrams computed\n",
            "1800 ngrams computed\n",
            "2000 ngrams computed\n",
            "2200 ngrams computed\n",
            "2400 ngrams computed\n",
            "2600 ngrams computed\n",
            "2800 ngrams computed\n",
            "3000 ngrams computed\n",
            "3200 ngrams computed\n",
            "3400 ngrams computed\n",
            "3600 ngrams computed\n",
            "3800 ngrams computed\n",
            "4000 ngrams computed\n",
            "4200 ngrams computed\n",
            "4400 ngrams computed\n",
            "4600 ngrams computed\n",
            "4800 ngrams computed\n",
            "5000 ngrams computed\n",
            "5200 ngrams computed\n",
            "5400 ngrams computed\n",
            "5600 ngrams computed\n",
            "5800 ngrams computed\n",
            "6000 ngrams computed\n",
            "6200 ngrams computed\n",
            "6400 ngrams computed\n",
            "6600 ngrams computed\n",
            "6800 ngrams computed\n",
            "7000 ngrams computed\n",
            "7200 ngrams computed\n",
            "7400 ngrams computed\n",
            "7600 ngrams computed\n",
            "7800 ngrams computed\n",
            "8000 ngrams computed\n",
            "8200 ngrams computed\n",
            "8400 ngrams computed\n",
            "8600 ngrams computed\n",
            "8800 ngrams computed\n",
            "9000 ngrams computed\n",
            "9200 ngrams computed\n",
            "9400 ngrams computed\n",
            "9600 ngrams computed\n",
            "9800 ngrams computed\n",
            "10000 ngrams computed\n",
            "10200 ngrams computed\n",
            "10400 ngrams computed\n",
            "10600 ngrams computed\n",
            "10800 ngrams computed\n",
            "11000 ngrams computed\n",
            "11200 ngrams computed\n",
            "11400 ngrams computed\n",
            "11600 ngrams computed\n",
            "11800 ngrams computed\n",
            "12000 ngrams computed\n",
            "12200 ngrams computed\n",
            "12400 ngrams computed\n",
            "12600 ngrams computed\n",
            "12800 ngrams computed\n",
            "13000 ngrams computed\n",
            "13200 ngrams computed\n",
            "13400 ngrams computed\n",
            "13600 ngrams computed\n",
            "13800 ngrams computed\n",
            "14000 ngrams computed\n",
            "14200 ngrams computed\n",
            "14400 ngrams computed\n",
            "14600 ngrams computed\n",
            "14800 ngrams computed\n",
            "15000 ngrams computed\n",
            "15200 ngrams computed\n",
            "15400 ngrams computed\n",
            "15600 ngrams computed\n",
            "processed 15766 comments\n",
            "\n",
            "splitting...\n",
            "\n",
            "evaluating\n",
            "[0 0 0 ... 0 0 1]\n"
          ]
        }
      ]
    },
    {
      "cell_type": "code",
      "metadata": {
        "id": "a660f720",
        "outputId": "75385f79-9267-4c02-833c-9eed49858164"
      },
      "source": [
        "# EVALUATE\n",
        "print(\"confusion matrix:\\n\", sm.confusion_matrix(y_test_svm,y_pred_svm))\n",
        "print(\"accuracy:\", round(sm.accuracy_score(y_test_svm,y_pred_svm), 4))"
      ],
      "id": "a660f720",
      "execution_count": null,
      "outputs": [
        {
          "name": "stdout",
          "output_type": "stream",
          "text": [
            "confusion matrix:\n",
            " [[5065  314]\n",
            " [1264 1240]]\n",
            "accuracy: 0.7998\n"
          ]
        }
      ]
    },
    {
      "cell_type": "markdown",
      "metadata": {
        "id": "b0a39423"
      },
      "source": [
        "# Decision Tree"
      ],
      "id": "b0a39423"
    },
    {
      "cell_type": "code",
      "metadata": {
        "id": "d87c943c",
        "outputId": "1c9798b8-bb2c-45bb-c605-4ea3849c674c"
      },
      "source": [
        "X_train_tree, X_test_tree, y_train_tree, y_test_tree = get_ngram_data(ngram_size=2, N=69446)\n",
        "grid_searching = False\n",
        "clf = clf = tree.DecisionTreeClassifier()\n",
        "clf = clf.fit(X_train_tree, y_train_tree)\n",
        "\n",
        "#PREDICT\n",
        "print(\"\\nevaluating\")\n",
        "y_pred_tree = clf.predict(X_test_tree)\n",
        "print(y_pred_tree)"
      ],
      "id": "d87c943c",
      "execution_count": null,
      "outputs": [
        {
          "name": "stdout",
          "output_type": "stream",
          "text": [
            "\n",
            "GETTING DATA - 2-grams\n",
            "label_bullying,text_message,contains_url,naughty_count,norm\n",
            "200 ngrams computed\n",
            "400 ngrams computed\n",
            "600 ngrams computed\n",
            "800 ngrams computed\n",
            "1000 ngrams computed\n",
            "1200 ngrams computed\n",
            "1400 ngrams computed\n",
            "1600 ngrams computed\n",
            "1800 ngrams computed\n",
            "2000 ngrams computed\n",
            "2200 ngrams computed\n",
            "2400 ngrams computed\n",
            "2600 ngrams computed\n",
            "2800 ngrams computed\n",
            "3000 ngrams computed\n",
            "3200 ngrams computed\n",
            "3400 ngrams computed\n",
            "3600 ngrams computed\n",
            "3800 ngrams computed\n",
            "4000 ngrams computed\n",
            "4200 ngrams computed\n",
            "4400 ngrams computed\n",
            "4600 ngrams computed\n",
            "4800 ngrams computed\n",
            "5000 ngrams computed\n",
            "5200 ngrams computed\n",
            "5400 ngrams computed\n",
            "5600 ngrams computed\n",
            "5800 ngrams computed\n",
            "6000 ngrams computed\n",
            "6200 ngrams computed\n",
            "6400 ngrams computed\n",
            "6600 ngrams computed\n",
            "6800 ngrams computed\n",
            "7000 ngrams computed\n",
            "7200 ngrams computed\n",
            "7400 ngrams computed\n",
            "7600 ngrams computed\n",
            "7800 ngrams computed\n",
            "8000 ngrams computed\n",
            "8200 ngrams computed\n",
            "8400 ngrams computed\n",
            "8600 ngrams computed\n",
            "8800 ngrams computed\n",
            "9000 ngrams computed\n",
            "9200 ngrams computed\n",
            "9400 ngrams computed\n",
            "9600 ngrams computed\n",
            "9800 ngrams computed\n",
            "10000 ngrams computed\n",
            "10200 ngrams computed\n",
            "10400 ngrams computed\n",
            "10600 ngrams computed\n",
            "10800 ngrams computed\n",
            "11000 ngrams computed\n",
            "11200 ngrams computed\n",
            "11400 ngrams computed\n",
            "11600 ngrams computed\n",
            "11800 ngrams computed\n",
            "12000 ngrams computed\n",
            "12200 ngrams computed\n",
            "12400 ngrams computed\n",
            "12600 ngrams computed\n",
            "12800 ngrams computed\n",
            "13000 ngrams computed\n",
            "13200 ngrams computed\n",
            "13400 ngrams computed\n",
            "13600 ngrams computed\n",
            "13800 ngrams computed\n",
            "14000 ngrams computed\n",
            "14200 ngrams computed\n",
            "14400 ngrams computed\n",
            "14600 ngrams computed\n",
            "14800 ngrams computed\n",
            "15000 ngrams computed\n",
            "15200 ngrams computed\n",
            "15400 ngrams computed\n",
            "15600 ngrams computed\n",
            "processed 15766 comments\n",
            "\n",
            "splitting...\n",
            "\n",
            "evaluating\n",
            "[1 0 1 ... 0 0 0]\n"
          ]
        }
      ]
    },
    {
      "cell_type": "code",
      "metadata": {
        "id": "7778e0eb",
        "outputId": "e9725d88-3e3b-4af2-87d2-5cd6c8bc6613"
      },
      "source": [
        "# EVALUATE\n",
        "print(\"confusion matrix:\\n\", sm.confusion_matrix(y_test_tree,y_pred_tree))\n",
        "print(\"accuracy:\", round(sm.accuracy_score(y_test_tree,y_pred_tree), 4))"
      ],
      "id": "7778e0eb",
      "execution_count": null,
      "outputs": [
        {
          "name": "stdout",
          "output_type": "stream",
          "text": [
            "confusion matrix:\n",
            " [[4277 1085]\n",
            " [1051 1470]]\n",
            "accuracy: 0.729\n"
          ]
        }
      ]
    },
    {
      "cell_type": "code",
      "metadata": {
        "id": "87b03bd2"
      },
      "source": [
        "final_data = []"
      ],
      "id": "87b03bd2",
      "execution_count": null,
      "outputs": []
    },
    {
      "cell_type": "code",
      "metadata": {
        "id": "8c6cde94",
        "outputId": "5d0afd34-6d35-4d8b-9d6a-4cc6bfd7f2f5"
      },
      "source": [
        "import csv\n",
        "from pathlib import Path\n",
        "\n",
        "#Logistic\n",
        "L_Recall = round(sm.recall_score(y_test_logistic, y_pred_logistic),4)\n",
        "L_Precision = round(sm.precision_score(y_test_logistic, y_pred_logistic),4)\n",
        "L_F1_score = round(sm.f1_score(y_test_logistic, y_pred_logistic), 4)\n",
        "print(\"Logistic recall:\",L_Recall )\n",
        "print(\"Logistic precision:\",L_Precision)\n",
        "print(\"Logistic f1 score:\",L_F1_score )\n",
        "\n",
        "#Random\n",
        "R_Recall = round(sm.recall_score(y_test_random, y_pred_random), 4)\n",
        "R_Precision = round(sm.precision_score(y_test_random, y_pred_random), 4)\n",
        "R_F1_score = round(sm.f1_score(y_test_random, y_pred_random), 4)\n",
        "print(\"Random recall:\",R_Recall )\n",
        "print(\"Random precision:\", R_Precision)\n",
        "print(\"Random f1 score:\",R_F1_score )\n",
        "\n",
        "#Naive\n",
        "N_Recall = round(sm.recall_score(y_test_bayes, y_pred_bayes), 4)\n",
        "N_Precision =round(sm.precision_score(y_test_bayes, y_pred_bayes), 4)\n",
        "N_F1_score = round(sm.f1_score(y_test_bayes, y_pred_bayes), 4)\n",
        "print(\"Naive recall:\", N_Recall)\n",
        "print(\"Naive precision:\",N_Precision )\n",
        "print(\"Naive f1 score:\", N_F1_score )\n",
        "\n",
        "#KNN\n",
        "KNN_Recall = round(sm.recall_score(y_test_knn, y_pred_knn), 4)\n",
        "KNN_Precision =round(sm.precision_score(y_test_knn, y_pred_knn), 4)\n",
        "KNN_F1_score = round(sm.f1_score(y_test_knn, y_pred_knn), 4)\n",
        "print(\"KNN recall:\", KNN_Recall )\n",
        "print(\"KNN precision:\", KNN_Precision)\n",
        "print(\"KNN f1 score:\", KNN_F1_score )\n",
        "\n",
        "#Adaboost\n",
        "Adaboost_Recall = round(sm.recall_score(y_test_adaboost, y_pred_adaboost), 4)\n",
        "Adaboost_Precision = round(sm.precision_score(y_test_adaboost, y_pred_adaboost), 4)\n",
        "Adaboost_F1_score = round(sm.f1_score(y_test_adaboost, y_pred_adaboost), 4)\n",
        "print(\"KNN recall:\",Adaboost_Recall )\n",
        "print(\"KNN precision:\",Adaboost_Precision )\n",
        "print(\"KNN f1 score:\", Adaboost_F1_score)\n",
        "\n",
        "#SVM\n",
        "svm_Recall = round(sm.recall_score(y_test_svm, y_pred_svm), 4)\n",
        "svm_Precision = round(sm.precision_score(y_test_svm, y_pred_svm), 4)\n",
        "svm_F1_score = round(sm.f1_score(y_test_svm, y_pred_svm), 4)\n",
        "print(\"SVM recall:\",svm_Recall )\n",
        "print(\"SVM precision:\", svm_Precision )\n",
        "print(\"SVM f1 score:\", svm_F1_score )\n",
        "\n",
        "#Decision\n",
        "decision_Recall = round(sm.recall_score(y_test_tree, y_pred_tree), 4)\n",
        "decision_Precision = round(sm.precision_score(y_test_tree, y_pred_tree), 4)\n",
        "decision_F1_score = round(sm.f1_score(y_test_tree, y_pred_tree), 4)\n",
        "print(\"Decision recall:\", decision_Recall)\n",
        "print(\"Decision precision:\",decision_Precision )\n",
        "print(\"Decision f1 score:\", decision_F1_score )\n",
        "\n",
        "with open('Bigrams_Final_data5.csv','w') as file:\n",
        "    writer = csv.writer(file)\n",
        "    writer.writerow(['Recall','Precision','F1-score'])\n",
        "    writer.writerow([L_Recall,L_Precision,L_F1_score])\n",
        "    writer.writerow([R_Recall, R_Precision,R_F1_score])\n",
        "    writer.writerow([N_Recall,N_Precision, N_F1_score])\n",
        "    writer.writerow([KNN_Recall,KNN_Precision,KNN_F1_score])\n",
        "    writer.writerow([Adaboost_Recall,Adaboost_Precision,Adaboost_F1_score])\n",
        "    writer.writerow([svm_Recall,svm_Precision,svm_F1_score])\n",
        "    writer.writerow([decision_Recall,decision_Precision,decision_F1_score])\n",
        "    \n",
        "    "
      ],
      "id": "8c6cde94",
      "execution_count": null,
      "outputs": [
        {
          "name": "stdout",
          "output_type": "stream",
          "text": [
            "Logistic recall: 0.5424\n",
            "Logistic precision: 0.7431\n",
            "Logistic f1 score: 0.6271\n",
            "Random recall: 0.1902\n",
            "Random precision: 0.9568\n",
            "Random f1 score: 0.3174\n",
            "Naive recall: 0.6322\n",
            "Naive precision: 0.5612\n",
            "Naive f1 score: 0.5946\n",
            "KNN recall: 0.4425\n",
            "KNN precision: 0.6885\n",
            "KNN f1 score: 0.5387\n",
            "KNN recall: 0.5177\n",
            "KNN precision: 0.7262\n",
            "KNN f1 score: 0.6044\n",
            "SVM recall: 0.4952\n",
            "SVM precision: 0.7979\n",
            "SVM f1 score: 0.6111\n",
            "Decision recall: 0.5831\n",
            "Decision precision: 0.5753\n",
            "Decision f1 score: 0.5792\n"
          ]
        }
      ]
    },
    {
      "cell_type": "code",
      "metadata": {
        "id": "8b40d761"
      },
      "source": [
        ""
      ],
      "id": "8b40d761",
      "execution_count": null,
      "outputs": []
    }
  ]
}